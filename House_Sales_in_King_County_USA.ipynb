{
 "cells": [
  {
   "cell_type": "code",
   "execution_count": 2,
   "id": "946224a4",
   "metadata": {},
   "outputs": [],
   "source": [
    "import pandas as pd\n",
    "import matplotlib.pyplot as plt\n",
    "import numpy as np\n",
    "import seaborn as sns\n",
    "from sklearn.pipeline import Pipeline\n",
    "from sklearn.preprocessing import StandardScaler,PolynomialFeatures\n",
    "from sklearn.linear_model import LinearRegression"
   ]
  },
  {
   "cell_type": "code",
   "execution_count": 3,
   "id": "29e6aed7",
   "metadata": {
    "scrolled": false
   },
   "outputs": [
    {
     "data": {
      "text/html": [
       "<style type=\"text/css\">\n",
       "</style>\n",
       "<table id=\"T_9797c_\">\n",
       "  <thead>\n",
       "    <tr>\n",
       "      <th class=\"col_heading level0 col0\" >id</th>\n",
       "      <th class=\"col_heading level0 col1\" >date</th>\n",
       "      <th class=\"col_heading level0 col2\" >price</th>\n",
       "      <th class=\"col_heading level0 col3\" >bedrooms</th>\n",
       "      <th class=\"col_heading level0 col4\" >bathrooms</th>\n",
       "      <th class=\"col_heading level0 col5\" >sqft_living</th>\n",
       "      <th class=\"col_heading level0 col6\" >sqft_lot</th>\n",
       "      <th class=\"col_heading level0 col7\" >floors</th>\n",
       "      <th class=\"col_heading level0 col8\" >waterfront</th>\n",
       "      <th class=\"col_heading level0 col9\" >view</th>\n",
       "      <th class=\"col_heading level0 col10\" >condition</th>\n",
       "      <th class=\"col_heading level0 col11\" >grade</th>\n",
       "      <th class=\"col_heading level0 col12\" >sqft_above</th>\n",
       "      <th class=\"col_heading level0 col13\" >sqft_basement</th>\n",
       "      <th class=\"col_heading level0 col14\" >yr_built</th>\n",
       "      <th class=\"col_heading level0 col15\" >yr_renovated</th>\n",
       "      <th class=\"col_heading level0 col16\" >zipcode</th>\n",
       "      <th class=\"col_heading level0 col17\" >lat</th>\n",
       "      <th class=\"col_heading level0 col18\" >long</th>\n",
       "      <th class=\"col_heading level0 col19\" >sqft_living15</th>\n",
       "      <th class=\"col_heading level0 col20\" >sqft_lot15</th>\n",
       "    </tr>\n",
       "  </thead>\n",
       "  <tbody>\n",
       "    <tr>\n",
       "      <td id=\"T_9797c_row0_col0\" class=\"data row0 col0\" >7129300520</td>\n",
       "      <td id=\"T_9797c_row0_col1\" class=\"data row0 col1\" >20141013T000000</td>\n",
       "      <td id=\"T_9797c_row0_col2\" class=\"data row0 col2\" >221900.000000</td>\n",
       "      <td id=\"T_9797c_row0_col3\" class=\"data row0 col3\" >3</td>\n",
       "      <td id=\"T_9797c_row0_col4\" class=\"data row0 col4\" >1.000000</td>\n",
       "      <td id=\"T_9797c_row0_col5\" class=\"data row0 col5\" >1180</td>\n",
       "      <td id=\"T_9797c_row0_col6\" class=\"data row0 col6\" >5650</td>\n",
       "      <td id=\"T_9797c_row0_col7\" class=\"data row0 col7\" >1.000000</td>\n",
       "      <td id=\"T_9797c_row0_col8\" class=\"data row0 col8\" >0</td>\n",
       "      <td id=\"T_9797c_row0_col9\" class=\"data row0 col9\" >0</td>\n",
       "      <td id=\"T_9797c_row0_col10\" class=\"data row0 col10\" >3</td>\n",
       "      <td id=\"T_9797c_row0_col11\" class=\"data row0 col11\" >7</td>\n",
       "      <td id=\"T_9797c_row0_col12\" class=\"data row0 col12\" >1180</td>\n",
       "      <td id=\"T_9797c_row0_col13\" class=\"data row0 col13\" >0</td>\n",
       "      <td id=\"T_9797c_row0_col14\" class=\"data row0 col14\" >1955</td>\n",
       "      <td id=\"T_9797c_row0_col15\" class=\"data row0 col15\" >0</td>\n",
       "      <td id=\"T_9797c_row0_col16\" class=\"data row0 col16\" >98178</td>\n",
       "      <td id=\"T_9797c_row0_col17\" class=\"data row0 col17\" >47.511200</td>\n",
       "      <td id=\"T_9797c_row0_col18\" class=\"data row0 col18\" >-122.257000</td>\n",
       "      <td id=\"T_9797c_row0_col19\" class=\"data row0 col19\" >1340</td>\n",
       "      <td id=\"T_9797c_row0_col20\" class=\"data row0 col20\" >5650</td>\n",
       "    </tr>\n",
       "    <tr>\n",
       "      <td id=\"T_9797c_row1_col0\" class=\"data row1 col0\" >6414100192</td>\n",
       "      <td id=\"T_9797c_row1_col1\" class=\"data row1 col1\" >20141209T000000</td>\n",
       "      <td id=\"T_9797c_row1_col2\" class=\"data row1 col2\" >538000.000000</td>\n",
       "      <td id=\"T_9797c_row1_col3\" class=\"data row1 col3\" >3</td>\n",
       "      <td id=\"T_9797c_row1_col4\" class=\"data row1 col4\" >2.250000</td>\n",
       "      <td id=\"T_9797c_row1_col5\" class=\"data row1 col5\" >2570</td>\n",
       "      <td id=\"T_9797c_row1_col6\" class=\"data row1 col6\" >7242</td>\n",
       "      <td id=\"T_9797c_row1_col7\" class=\"data row1 col7\" >2.000000</td>\n",
       "      <td id=\"T_9797c_row1_col8\" class=\"data row1 col8\" >0</td>\n",
       "      <td id=\"T_9797c_row1_col9\" class=\"data row1 col9\" >0</td>\n",
       "      <td id=\"T_9797c_row1_col10\" class=\"data row1 col10\" >3</td>\n",
       "      <td id=\"T_9797c_row1_col11\" class=\"data row1 col11\" >7</td>\n",
       "      <td id=\"T_9797c_row1_col12\" class=\"data row1 col12\" >2170</td>\n",
       "      <td id=\"T_9797c_row1_col13\" class=\"data row1 col13\" >400</td>\n",
       "      <td id=\"T_9797c_row1_col14\" class=\"data row1 col14\" >1951</td>\n",
       "      <td id=\"T_9797c_row1_col15\" class=\"data row1 col15\" >1991</td>\n",
       "      <td id=\"T_9797c_row1_col16\" class=\"data row1 col16\" >98125</td>\n",
       "      <td id=\"T_9797c_row1_col17\" class=\"data row1 col17\" >47.721000</td>\n",
       "      <td id=\"T_9797c_row1_col18\" class=\"data row1 col18\" >-122.319000</td>\n",
       "      <td id=\"T_9797c_row1_col19\" class=\"data row1 col19\" >1690</td>\n",
       "      <td id=\"T_9797c_row1_col20\" class=\"data row1 col20\" >7639</td>\n",
       "    </tr>\n",
       "    <tr>\n",
       "      <td id=\"T_9797c_row2_col0\" class=\"data row2 col0\" >5631500400</td>\n",
       "      <td id=\"T_9797c_row2_col1\" class=\"data row2 col1\" >20150225T000000</td>\n",
       "      <td id=\"T_9797c_row2_col2\" class=\"data row2 col2\" >180000.000000</td>\n",
       "      <td id=\"T_9797c_row2_col3\" class=\"data row2 col3\" >2</td>\n",
       "      <td id=\"T_9797c_row2_col4\" class=\"data row2 col4\" >1.000000</td>\n",
       "      <td id=\"T_9797c_row2_col5\" class=\"data row2 col5\" >770</td>\n",
       "      <td id=\"T_9797c_row2_col6\" class=\"data row2 col6\" >10000</td>\n",
       "      <td id=\"T_9797c_row2_col7\" class=\"data row2 col7\" >1.000000</td>\n",
       "      <td id=\"T_9797c_row2_col8\" class=\"data row2 col8\" >0</td>\n",
       "      <td id=\"T_9797c_row2_col9\" class=\"data row2 col9\" >0</td>\n",
       "      <td id=\"T_9797c_row2_col10\" class=\"data row2 col10\" >3</td>\n",
       "      <td id=\"T_9797c_row2_col11\" class=\"data row2 col11\" >6</td>\n",
       "      <td id=\"T_9797c_row2_col12\" class=\"data row2 col12\" >770</td>\n",
       "      <td id=\"T_9797c_row2_col13\" class=\"data row2 col13\" >0</td>\n",
       "      <td id=\"T_9797c_row2_col14\" class=\"data row2 col14\" >1933</td>\n",
       "      <td id=\"T_9797c_row2_col15\" class=\"data row2 col15\" >0</td>\n",
       "      <td id=\"T_9797c_row2_col16\" class=\"data row2 col16\" >98028</td>\n",
       "      <td id=\"T_9797c_row2_col17\" class=\"data row2 col17\" >47.737900</td>\n",
       "      <td id=\"T_9797c_row2_col18\" class=\"data row2 col18\" >-122.233000</td>\n",
       "      <td id=\"T_9797c_row2_col19\" class=\"data row2 col19\" >2720</td>\n",
       "      <td id=\"T_9797c_row2_col20\" class=\"data row2 col20\" >8062</td>\n",
       "    </tr>\n",
       "    <tr>\n",
       "      <td id=\"T_9797c_row3_col0\" class=\"data row3 col0\" >2487200875</td>\n",
       "      <td id=\"T_9797c_row3_col1\" class=\"data row3 col1\" >20141209T000000</td>\n",
       "      <td id=\"T_9797c_row3_col2\" class=\"data row3 col2\" >604000.000000</td>\n",
       "      <td id=\"T_9797c_row3_col3\" class=\"data row3 col3\" >4</td>\n",
       "      <td id=\"T_9797c_row3_col4\" class=\"data row3 col4\" >3.000000</td>\n",
       "      <td id=\"T_9797c_row3_col5\" class=\"data row3 col5\" >1960</td>\n",
       "      <td id=\"T_9797c_row3_col6\" class=\"data row3 col6\" >5000</td>\n",
       "      <td id=\"T_9797c_row3_col7\" class=\"data row3 col7\" >1.000000</td>\n",
       "      <td id=\"T_9797c_row3_col8\" class=\"data row3 col8\" >0</td>\n",
       "      <td id=\"T_9797c_row3_col9\" class=\"data row3 col9\" >0</td>\n",
       "      <td id=\"T_9797c_row3_col10\" class=\"data row3 col10\" >5</td>\n",
       "      <td id=\"T_9797c_row3_col11\" class=\"data row3 col11\" >7</td>\n",
       "      <td id=\"T_9797c_row3_col12\" class=\"data row3 col12\" >1050</td>\n",
       "      <td id=\"T_9797c_row3_col13\" class=\"data row3 col13\" >910</td>\n",
       "      <td id=\"T_9797c_row3_col14\" class=\"data row3 col14\" >1965</td>\n",
       "      <td id=\"T_9797c_row3_col15\" class=\"data row3 col15\" >0</td>\n",
       "      <td id=\"T_9797c_row3_col16\" class=\"data row3 col16\" >98136</td>\n",
       "      <td id=\"T_9797c_row3_col17\" class=\"data row3 col17\" >47.520800</td>\n",
       "      <td id=\"T_9797c_row3_col18\" class=\"data row3 col18\" >-122.393000</td>\n",
       "      <td id=\"T_9797c_row3_col19\" class=\"data row3 col19\" >1360</td>\n",
       "      <td id=\"T_9797c_row3_col20\" class=\"data row3 col20\" >5000</td>\n",
       "    </tr>\n",
       "    <tr>\n",
       "      <td id=\"T_9797c_row4_col0\" class=\"data row4 col0\" >1954400510</td>\n",
       "      <td id=\"T_9797c_row4_col1\" class=\"data row4 col1\" >20150218T000000</td>\n",
       "      <td id=\"T_9797c_row4_col2\" class=\"data row4 col2\" >510000.000000</td>\n",
       "      <td id=\"T_9797c_row4_col3\" class=\"data row4 col3\" >3</td>\n",
       "      <td id=\"T_9797c_row4_col4\" class=\"data row4 col4\" >2.000000</td>\n",
       "      <td id=\"T_9797c_row4_col5\" class=\"data row4 col5\" >1680</td>\n",
       "      <td id=\"T_9797c_row4_col6\" class=\"data row4 col6\" >8080</td>\n",
       "      <td id=\"T_9797c_row4_col7\" class=\"data row4 col7\" >1.000000</td>\n",
       "      <td id=\"T_9797c_row4_col8\" class=\"data row4 col8\" >0</td>\n",
       "      <td id=\"T_9797c_row4_col9\" class=\"data row4 col9\" >0</td>\n",
       "      <td id=\"T_9797c_row4_col10\" class=\"data row4 col10\" >3</td>\n",
       "      <td id=\"T_9797c_row4_col11\" class=\"data row4 col11\" >8</td>\n",
       "      <td id=\"T_9797c_row4_col12\" class=\"data row4 col12\" >1680</td>\n",
       "      <td id=\"T_9797c_row4_col13\" class=\"data row4 col13\" >0</td>\n",
       "      <td id=\"T_9797c_row4_col14\" class=\"data row4 col14\" >1987</td>\n",
       "      <td id=\"T_9797c_row4_col15\" class=\"data row4 col15\" >0</td>\n",
       "      <td id=\"T_9797c_row4_col16\" class=\"data row4 col16\" >98074</td>\n",
       "      <td id=\"T_9797c_row4_col17\" class=\"data row4 col17\" >47.616800</td>\n",
       "      <td id=\"T_9797c_row4_col18\" class=\"data row4 col18\" >-122.045000</td>\n",
       "      <td id=\"T_9797c_row4_col19\" class=\"data row4 col19\" >1800</td>\n",
       "      <td id=\"T_9797c_row4_col20\" class=\"data row4 col20\" >7503</td>\n",
       "    </tr>\n",
       "  </tbody>\n",
       "</table>\n"
      ],
      "text/plain": [
       "<pandas.io.formats.style.Styler at 0x236b4fbeeb0>"
      ]
     },
     "execution_count": 3,
     "metadata": {},
     "output_type": "execute_result"
    }
   ],
   "source": [
    "df = pd.read_csv('kc_house_data.csv')\n",
    "df.head().style.hide_index()"
   ]
  },
  {
   "cell_type": "markdown",
   "id": "fc66910b",
   "metadata": {},
   "source": [
    "### Question 1\n",
    "\n",
    "Display the data types of each column using the function dtypes, then take a screenshot and submit it, include your code in the image."
   ]
  },
  {
   "cell_type": "code",
   "execution_count": 72,
   "id": "a3c280a8",
   "metadata": {
    "scrolled": false
   },
   "outputs": [
    {
     "data": {
      "text/plain": [
       "id                 int64\n",
       "date              object\n",
       "price            float64\n",
       "bedrooms           int64\n",
       "bathrooms        float64\n",
       "sqft_living        int64\n",
       "sqft_lot           int64\n",
       "floors           float64\n",
       "waterfront         int64\n",
       "view               int64\n",
       "condition          int64\n",
       "grade              int64\n",
       "sqft_above         int64\n",
       "sqft_basement      int64\n",
       "yr_built           int64\n",
       "yr_renovated       int64\n",
       "zipcode            int64\n",
       "lat              float64\n",
       "long             float64\n",
       "sqft_living15      int64\n",
       "sqft_lot15         int64\n",
       "dtype: object"
      ]
     },
     "execution_count": 72,
     "metadata": {},
     "output_type": "execute_result"
    }
   ],
   "source": [
    "df.dtypes"
   ]
  },
  {
   "cell_type": "code",
   "execution_count": 24,
   "id": "78f74f79",
   "metadata": {
    "collapsed": true
   },
   "outputs": [
    {
     "data": {
      "text/plain": [
       "id               0\n",
       "date             0\n",
       "price            0\n",
       "bedrooms         0\n",
       "bathrooms        0\n",
       "sqft_living      0\n",
       "sqft_lot         0\n",
       "floors           0\n",
       "waterfront       0\n",
       "view             0\n",
       "condition        0\n",
       "grade            0\n",
       "sqft_above       0\n",
       "sqft_basement    0\n",
       "yr_built         0\n",
       "yr_renovated     0\n",
       "zipcode          0\n",
       "lat              0\n",
       "long             0\n",
       "sqft_living15    0\n",
       "sqft_lot15       0\n",
       "dtype: int64"
      ]
     },
     "execution_count": 24,
     "metadata": {},
     "output_type": "execute_result"
    }
   ],
   "source": [
    "df.isnull().sum()"
   ]
  },
  {
   "cell_type": "markdown",
   "id": "92c16b74",
   "metadata": {},
   "source": [
    "### Question 2\n",
    "\n",
    "Drop the columns <code>\"id\"</code>  and <code>\"Unnamed: 0\"</code> from axis 1 using the method <code>drop()</code>, then use the method <code>describe()</code> to obtain a statistical summary of the data. Take a screenshot and submit it, make sure the <code>inplace</code> parameter is set to <code>True</code>"
   ]
  },
  {
   "cell_type": "code",
   "execution_count": 5,
   "id": "80baebea",
   "metadata": {},
   "outputs": [
    {
     "data": {
      "text/html": [
       "<div>\n",
       "<style scoped>\n",
       "    .dataframe tbody tr th:only-of-type {\n",
       "        vertical-align: middle;\n",
       "    }\n",
       "\n",
       "    .dataframe tbody tr th {\n",
       "        vertical-align: top;\n",
       "    }\n",
       "\n",
       "    .dataframe thead th {\n",
       "        text-align: right;\n",
       "    }\n",
       "</style>\n",
       "<table border=\"1\" class=\"dataframe\">\n",
       "  <thead>\n",
       "    <tr style=\"text-align: right;\">\n",
       "      <th></th>\n",
       "      <th>price</th>\n",
       "      <th>bedrooms</th>\n",
       "      <th>bathrooms</th>\n",
       "      <th>sqft_living</th>\n",
       "      <th>sqft_lot</th>\n",
       "      <th>floors</th>\n",
       "      <th>waterfront</th>\n",
       "      <th>view</th>\n",
       "      <th>condition</th>\n",
       "      <th>grade</th>\n",
       "      <th>sqft_above</th>\n",
       "      <th>sqft_basement</th>\n",
       "      <th>yr_built</th>\n",
       "      <th>yr_renovated</th>\n",
       "      <th>zipcode</th>\n",
       "      <th>lat</th>\n",
       "      <th>long</th>\n",
       "      <th>sqft_living15</th>\n",
       "      <th>sqft_lot15</th>\n",
       "    </tr>\n",
       "  </thead>\n",
       "  <tbody>\n",
       "    <tr>\n",
       "      <th>count</th>\n",
       "      <td>2.161300e+04</td>\n",
       "      <td>21613.000000</td>\n",
       "      <td>21613.000000</td>\n",
       "      <td>21613.000000</td>\n",
       "      <td>2.161300e+04</td>\n",
       "      <td>21613.000000</td>\n",
       "      <td>21613.000000</td>\n",
       "      <td>21613.000000</td>\n",
       "      <td>21613.000000</td>\n",
       "      <td>21613.000000</td>\n",
       "      <td>21613.000000</td>\n",
       "      <td>21613.000000</td>\n",
       "      <td>21613.000000</td>\n",
       "      <td>21613.000000</td>\n",
       "      <td>21613.000000</td>\n",
       "      <td>21613.000000</td>\n",
       "      <td>21613.000000</td>\n",
       "      <td>21613.000000</td>\n",
       "      <td>21613.000000</td>\n",
       "    </tr>\n",
       "    <tr>\n",
       "      <th>mean</th>\n",
       "      <td>5.400881e+05</td>\n",
       "      <td>3.370842</td>\n",
       "      <td>2.114757</td>\n",
       "      <td>2079.899736</td>\n",
       "      <td>1.510697e+04</td>\n",
       "      <td>1.494309</td>\n",
       "      <td>0.007542</td>\n",
       "      <td>0.234303</td>\n",
       "      <td>3.409430</td>\n",
       "      <td>7.656873</td>\n",
       "      <td>1788.390691</td>\n",
       "      <td>291.509045</td>\n",
       "      <td>1971.005136</td>\n",
       "      <td>84.402258</td>\n",
       "      <td>98077.939805</td>\n",
       "      <td>47.560053</td>\n",
       "      <td>-122.213896</td>\n",
       "      <td>1986.552492</td>\n",
       "      <td>12768.455652</td>\n",
       "    </tr>\n",
       "    <tr>\n",
       "      <th>std</th>\n",
       "      <td>3.671272e+05</td>\n",
       "      <td>0.930062</td>\n",
       "      <td>0.770163</td>\n",
       "      <td>918.440897</td>\n",
       "      <td>4.142051e+04</td>\n",
       "      <td>0.539989</td>\n",
       "      <td>0.086517</td>\n",
       "      <td>0.766318</td>\n",
       "      <td>0.650743</td>\n",
       "      <td>1.175459</td>\n",
       "      <td>828.090978</td>\n",
       "      <td>442.575043</td>\n",
       "      <td>29.373411</td>\n",
       "      <td>401.679240</td>\n",
       "      <td>53.505026</td>\n",
       "      <td>0.138564</td>\n",
       "      <td>0.140828</td>\n",
       "      <td>685.391304</td>\n",
       "      <td>27304.179631</td>\n",
       "    </tr>\n",
       "    <tr>\n",
       "      <th>min</th>\n",
       "      <td>7.500000e+04</td>\n",
       "      <td>0.000000</td>\n",
       "      <td>0.000000</td>\n",
       "      <td>290.000000</td>\n",
       "      <td>5.200000e+02</td>\n",
       "      <td>1.000000</td>\n",
       "      <td>0.000000</td>\n",
       "      <td>0.000000</td>\n",
       "      <td>1.000000</td>\n",
       "      <td>1.000000</td>\n",
       "      <td>290.000000</td>\n",
       "      <td>0.000000</td>\n",
       "      <td>1900.000000</td>\n",
       "      <td>0.000000</td>\n",
       "      <td>98001.000000</td>\n",
       "      <td>47.155900</td>\n",
       "      <td>-122.519000</td>\n",
       "      <td>399.000000</td>\n",
       "      <td>651.000000</td>\n",
       "    </tr>\n",
       "    <tr>\n",
       "      <th>25%</th>\n",
       "      <td>3.219500e+05</td>\n",
       "      <td>3.000000</td>\n",
       "      <td>1.750000</td>\n",
       "      <td>1427.000000</td>\n",
       "      <td>5.040000e+03</td>\n",
       "      <td>1.000000</td>\n",
       "      <td>0.000000</td>\n",
       "      <td>0.000000</td>\n",
       "      <td>3.000000</td>\n",
       "      <td>7.000000</td>\n",
       "      <td>1190.000000</td>\n",
       "      <td>0.000000</td>\n",
       "      <td>1951.000000</td>\n",
       "      <td>0.000000</td>\n",
       "      <td>98033.000000</td>\n",
       "      <td>47.471000</td>\n",
       "      <td>-122.328000</td>\n",
       "      <td>1490.000000</td>\n",
       "      <td>5100.000000</td>\n",
       "    </tr>\n",
       "    <tr>\n",
       "      <th>50%</th>\n",
       "      <td>4.500000e+05</td>\n",
       "      <td>3.000000</td>\n",
       "      <td>2.250000</td>\n",
       "      <td>1910.000000</td>\n",
       "      <td>7.618000e+03</td>\n",
       "      <td>1.500000</td>\n",
       "      <td>0.000000</td>\n",
       "      <td>0.000000</td>\n",
       "      <td>3.000000</td>\n",
       "      <td>7.000000</td>\n",
       "      <td>1560.000000</td>\n",
       "      <td>0.000000</td>\n",
       "      <td>1975.000000</td>\n",
       "      <td>0.000000</td>\n",
       "      <td>98065.000000</td>\n",
       "      <td>47.571800</td>\n",
       "      <td>-122.230000</td>\n",
       "      <td>1840.000000</td>\n",
       "      <td>7620.000000</td>\n",
       "    </tr>\n",
       "    <tr>\n",
       "      <th>75%</th>\n",
       "      <td>6.450000e+05</td>\n",
       "      <td>4.000000</td>\n",
       "      <td>2.500000</td>\n",
       "      <td>2550.000000</td>\n",
       "      <td>1.068800e+04</td>\n",
       "      <td>2.000000</td>\n",
       "      <td>0.000000</td>\n",
       "      <td>0.000000</td>\n",
       "      <td>4.000000</td>\n",
       "      <td>8.000000</td>\n",
       "      <td>2210.000000</td>\n",
       "      <td>560.000000</td>\n",
       "      <td>1997.000000</td>\n",
       "      <td>0.000000</td>\n",
       "      <td>98118.000000</td>\n",
       "      <td>47.678000</td>\n",
       "      <td>-122.125000</td>\n",
       "      <td>2360.000000</td>\n",
       "      <td>10083.000000</td>\n",
       "    </tr>\n",
       "    <tr>\n",
       "      <th>max</th>\n",
       "      <td>7.700000e+06</td>\n",
       "      <td>33.000000</td>\n",
       "      <td>8.000000</td>\n",
       "      <td>13540.000000</td>\n",
       "      <td>1.651359e+06</td>\n",
       "      <td>3.500000</td>\n",
       "      <td>1.000000</td>\n",
       "      <td>4.000000</td>\n",
       "      <td>5.000000</td>\n",
       "      <td>13.000000</td>\n",
       "      <td>9410.000000</td>\n",
       "      <td>4820.000000</td>\n",
       "      <td>2015.000000</td>\n",
       "      <td>2015.000000</td>\n",
       "      <td>98199.000000</td>\n",
       "      <td>47.777600</td>\n",
       "      <td>-121.315000</td>\n",
       "      <td>6210.000000</td>\n",
       "      <td>871200.000000</td>\n",
       "    </tr>\n",
       "  </tbody>\n",
       "</table>\n",
       "</div>"
      ],
      "text/plain": [
       "              price      bedrooms     bathrooms   sqft_living      sqft_lot  \\\n",
       "count  2.161300e+04  21613.000000  21613.000000  21613.000000  2.161300e+04   \n",
       "mean   5.400881e+05      3.370842      2.114757   2079.899736  1.510697e+04   \n",
       "std    3.671272e+05      0.930062      0.770163    918.440897  4.142051e+04   \n",
       "min    7.500000e+04      0.000000      0.000000    290.000000  5.200000e+02   \n",
       "25%    3.219500e+05      3.000000      1.750000   1427.000000  5.040000e+03   \n",
       "50%    4.500000e+05      3.000000      2.250000   1910.000000  7.618000e+03   \n",
       "75%    6.450000e+05      4.000000      2.500000   2550.000000  1.068800e+04   \n",
       "max    7.700000e+06     33.000000      8.000000  13540.000000  1.651359e+06   \n",
       "\n",
       "             floors    waterfront          view     condition         grade  \\\n",
       "count  21613.000000  21613.000000  21613.000000  21613.000000  21613.000000   \n",
       "mean       1.494309      0.007542      0.234303      3.409430      7.656873   \n",
       "std        0.539989      0.086517      0.766318      0.650743      1.175459   \n",
       "min        1.000000      0.000000      0.000000      1.000000      1.000000   \n",
       "25%        1.000000      0.000000      0.000000      3.000000      7.000000   \n",
       "50%        1.500000      0.000000      0.000000      3.000000      7.000000   \n",
       "75%        2.000000      0.000000      0.000000      4.000000      8.000000   \n",
       "max        3.500000      1.000000      4.000000      5.000000     13.000000   \n",
       "\n",
       "         sqft_above  sqft_basement      yr_built  yr_renovated       zipcode  \\\n",
       "count  21613.000000   21613.000000  21613.000000  21613.000000  21613.000000   \n",
       "mean    1788.390691     291.509045   1971.005136     84.402258  98077.939805   \n",
       "std      828.090978     442.575043     29.373411    401.679240     53.505026   \n",
       "min      290.000000       0.000000   1900.000000      0.000000  98001.000000   \n",
       "25%     1190.000000       0.000000   1951.000000      0.000000  98033.000000   \n",
       "50%     1560.000000       0.000000   1975.000000      0.000000  98065.000000   \n",
       "75%     2210.000000     560.000000   1997.000000      0.000000  98118.000000   \n",
       "max     9410.000000    4820.000000   2015.000000   2015.000000  98199.000000   \n",
       "\n",
       "                lat          long  sqft_living15     sqft_lot15  \n",
       "count  21613.000000  21613.000000   21613.000000   21613.000000  \n",
       "mean      47.560053   -122.213896    1986.552492   12768.455652  \n",
       "std        0.138564      0.140828     685.391304   27304.179631  \n",
       "min       47.155900   -122.519000     399.000000     651.000000  \n",
       "25%       47.471000   -122.328000    1490.000000    5100.000000  \n",
       "50%       47.571800   -122.230000    1840.000000    7620.000000  \n",
       "75%       47.678000   -122.125000    2360.000000   10083.000000  \n",
       "max       47.777600   -121.315000    6210.000000  871200.000000  "
      ]
     },
     "execution_count": 5,
     "metadata": {},
     "output_type": "execute_result"
    }
   ],
   "source": [
    "df1 = df.drop(['id'], axis =1)\n",
    "df1.describe()"
   ]
  },
  {
   "cell_type": "markdown",
   "id": "38f610ff",
   "metadata": {},
   "source": [
    "### Question 3\n",
    "\n",
    "Use the method <code>value_counts</code> to count the number of houses with unique floor values, use the method <code>.to_frame()</code> to convert it to a dataframe."
   ]
  },
  {
   "cell_type": "code",
   "execution_count": 7,
   "id": "82e5a798",
   "metadata": {},
   "outputs": [
    {
     "data": {
      "text/html": [
       "<div>\n",
       "<style scoped>\n",
       "    .dataframe tbody tr th:only-of-type {\n",
       "        vertical-align: middle;\n",
       "    }\n",
       "\n",
       "    .dataframe tbody tr th {\n",
       "        vertical-align: top;\n",
       "    }\n",
       "\n",
       "    .dataframe thead th {\n",
       "        text-align: right;\n",
       "    }\n",
       "</style>\n",
       "<table border=\"1\" class=\"dataframe\">\n",
       "  <thead>\n",
       "    <tr style=\"text-align: right;\">\n",
       "      <th></th>\n",
       "      <th>floors</th>\n",
       "    </tr>\n",
       "  </thead>\n",
       "  <tbody>\n",
       "    <tr>\n",
       "      <th>1.0</th>\n",
       "      <td>10680</td>\n",
       "    </tr>\n",
       "    <tr>\n",
       "      <th>2.0</th>\n",
       "      <td>8241</td>\n",
       "    </tr>\n",
       "    <tr>\n",
       "      <th>1.5</th>\n",
       "      <td>1910</td>\n",
       "    </tr>\n",
       "    <tr>\n",
       "      <th>3.0</th>\n",
       "      <td>613</td>\n",
       "    </tr>\n",
       "    <tr>\n",
       "      <th>2.5</th>\n",
       "      <td>161</td>\n",
       "    </tr>\n",
       "    <tr>\n",
       "      <th>3.5</th>\n",
       "      <td>8</td>\n",
       "    </tr>\n",
       "  </tbody>\n",
       "</table>\n",
       "</div>"
      ],
      "text/plain": [
       "     floors\n",
       "1.0   10680\n",
       "2.0    8241\n",
       "1.5    1910\n",
       "3.0     613\n",
       "2.5     161\n",
       "3.5       8"
      ]
     },
     "execution_count": 7,
     "metadata": {},
     "output_type": "execute_result"
    }
   ],
   "source": [
    "#count houses with unique floor value\n",
    "df1['floors'].value_counts().to_frame()"
   ]
  },
  {
   "cell_type": "markdown",
   "id": "b9187787",
   "metadata": {},
   "source": [
    "### Question 4\n",
    "\n",
    "Use the function <code>boxplot</code> in the seaborn library  to  determine whether houses with a waterfront view or without a waterfront view have more price outliers.\n"
   ]
  },
  {
   "cell_type": "code",
   "execution_count": 75,
   "id": "f7eaee59",
   "metadata": {},
   "outputs": [
    {
     "data": {
      "text/plain": [
       "<AxesSubplot:xlabel='waterfront', ylabel='price'>"
      ]
     },
     "execution_count": 75,
     "metadata": {},
     "output_type": "execute_result"
    },
    {
     "data": {
      "image/png": "[encoded data removed]",
      "text/plain": [
       "<Figure size 432x288 with 1 Axes>"
      ]
     },
     "metadata": {
      "needs_background": "light"
     },
     "output_type": "display_data"
    }
   ],
   "source": [
    "sns.boxplot(x='waterfront', y='price',data =df1)"
   ]
  },
  {
   "cell_type": "markdown",
   "id": "900fdb6e",
   "metadata": {},
   "source": [
    "### Question 5\n",
    "\n",
    "Use the function <code>regplot</code>  in the seaborn library  to  determine if the feature <code>sqft_above</code> is negatively or positively correlated with price."
   ]
  },
  {
   "cell_type": "code",
   "execution_count": 76,
   "id": "50585c58",
   "metadata": {},
   "outputs": [
    {
     "data": {
      "text/plain": [
       "(0.0, 8081250.0)"
      ]
     },
     "execution_count": 76,
     "metadata": {},
     "output_type": "execute_result"
    },
    {
     "data": {
      "image/png": "[encoded data removed]",
      "text/plain": [
       "<Figure size 432x288 with 1 Axes>"
      ]
     },
     "metadata": {
      "needs_background": "light"
     },
     "output_type": "display_data"
    }
   ],
   "source": [
    "#visualizing correlation between'sqft_above' and 'price'\n",
    "sns.regplot(x='sqft_above', y = 'price', data =df1)\n",
    "plt.ylim(0,)"
   ]
  },
  {
   "cell_type": "code",
   "execution_count": 77,
   "id": "64de204e",
   "metadata": {},
   "outputs": [
    {
     "data": {
      "text/plain": [
       "0.6055672983560781"
      ]
     },
     "execution_count": 77,
     "metadata": {},
     "output_type": "execute_result"
    }
   ],
   "source": [
    "df1['sqft_above'].corr(df1['price'])"
   ]
  },
  {
   "cell_type": "code",
   "execution_count": 78,
   "id": "5ef33c8c",
   "metadata": {},
   "outputs": [
    {
     "data": {
      "text/plain": [
       "zipcode         -0.053203\n",
       "long             0.021626\n",
       "condition        0.036362\n",
       "yr_built         0.054012\n",
       "sqft_lot15       0.082447\n",
       "sqft_lot         0.089661\n",
       "yr_renovated     0.126434\n",
       "floors           0.256794\n",
       "waterfront       0.266369\n",
       "lat              0.307003\n",
       "bedrooms         0.308350\n",
       "sqft_basement    0.323816\n",
       "view             0.397293\n",
       "bathrooms        0.525138\n",
       "sqft_living15    0.585379\n",
       "sqft_above       0.605567\n",
       "grade            0.667434\n",
       "sqft_living      0.702035\n",
       "price            1.000000\n",
       "Name: price, dtype: float64"
      ]
     },
     "execution_count": 78,
     "metadata": {},
     "output_type": "execute_result"
    }
   ],
   "source": [
    "#the Pandas method corr() to find the feature other than price that is most correlated with price.\n",
    "df1.corr()['price'].sort_values()"
   ]
  },
  {
   "cell_type": "markdown",
   "id": "2b381c27",
   "metadata": {},
   "source": [
    "### Question  6\n",
    "\n",
    "Fit a linear regression model to predict the <code>'price'</code> using the feature <code>'sqft_living'</code> then calculate the R^2. Take a screenshot of your code and the value of the R^2."
   ]
  },
  {
   "cell_type": "code",
   "execution_count": 79,
   "id": "2f71d36b",
   "metadata": {},
   "outputs": [
    {
     "data": {
      "text/plain": [
       "0.4928532179037931"
      ]
     },
     "execution_count": 79,
     "metadata": {},
     "output_type": "execute_result"
    }
   ],
   "source": [
    "X = df1[['sqft_living']]\n",
    "Y = df1['price']\n",
    "lm = LinearRegression()\n",
    "lm.fit(X, Y)\n",
    "lm.score(X, Y)"
   ]
  },
  {
   "cell_type": "markdown",
   "id": "dfc4e34a",
   "metadata": {},
   "source": [
    "### Question 7\n",
    "\n",
    "Fit a linear regression model to predict the <code>'price'</code> using the list of features:"
   ]
  },
  {
   "cell_type": "code",
   "execution_count": 80,
   "id": "c7c9dfc6",
   "metadata": {},
   "outputs": [
    {
     "data": {
      "text/plain": [
       "0.6577151058279327"
      ]
     },
     "execution_count": 80,
     "metadata": {},
     "output_type": "execute_result"
    }
   ],
   "source": [
    "features =[\"floors\", \"waterfront\",\"lat\" ,\"bedrooms\" ,\"sqft_basement\" ,\"view\" ,\"bathrooms\",\"sqft_living15\",\"sqft_above\",\"grade\",\"sqft_living\"]\n",
    "X = df1[features]\n",
    "Y = df1['price']\n",
    "lm = LinearRegression()\n",
    "lm.fit(X, Y)\n",
    "lm.score(X, Y)"
   ]
  },
  {
   "cell_type": "markdown",
   "id": "e8a1553b",
   "metadata": {},
   "source": [
    "### Question 8\n",
    "\n",
    "Use the list to create a pipeline object to predict the 'price', fit the object using the features in the list <code>features</code>, and calculate the R^2."
   ]
  },
  {
   "cell_type": "code",
   "execution_count": 81,
   "id": "1e74dbbb",
   "metadata": {},
   "outputs": [
    {
     "data": {
      "text/plain": [
       "0.7513467790151392"
      ]
     },
     "execution_count": 81,
     "metadata": {},
     "output_type": "execute_result"
    }
   ],
   "source": [
    "Input=[('scale',StandardScaler()),('polynomial', PolynomialFeatures(include_bias=False)),('model',LinearRegression())]\n",
    "pipe = Pipeline(Input)\n",
    "\n",
    "features =[\"floors\", \"waterfront\",\"lat\" ,\"bedrooms\" ,\"sqft_basement\" ,\"view\" ,\"bathrooms\",\"sqft_living15\",\"sqft_above\",\"grade\",\"sqft_living\"]\n",
    "X = df1[features]\n",
    "y = df1['price']\n",
    "\n",
    "pipe.fit(X, y)\n",
    "pipe.score(X,y) "
   ]
  },
  {
   "cell_type": "markdown",
   "id": "adf6a657",
   "metadata": {},
   "source": [
    "### Question 9\n",
    "\n",
    "Create and fit a Ridge regression object using the training data, set the regularization parameter to 0.1, and calculate the R^2 using the test data.\n"
   ]
  },
  {
   "cell_type": "code",
   "execution_count": 8,
   "id": "b0b13018",
   "metadata": {},
   "outputs": [
    {
     "data": {
      "text/plain": [
       "0.6480374087702245"
      ]
     },
     "execution_count": 8,
     "metadata": {},
     "output_type": "execute_result"
    }
   ],
   "source": [
    "from sklearn.model_selection import cross_val_score\n",
    "from sklearn.model_selection import train_test_split\n",
    "from sklearn.linear_model import Ridge\n",
    "\n",
    "features =[\"floors\", \"waterfront\",\"lat\" ,\"bedrooms\" ,\"sqft_basement\" ,\"view\" ,\"bathrooms\",\"sqft_living15\",\"sqft_above\",\"grade\",\"sqft_living\"]    \n",
    "X = df1[features]\n",
    "Y = df1['price']\n",
    "\n",
    "x_train, x_test, y_train, y_test = train_test_split(X, Y, test_size=0.15, random_state=1)\n",
    "\n",
    "RidgeModel = Ridge(alpha = 0.1)\n",
    "RidgeModel.fit(x_train,y_train)\n",
    "RidgeModel.score(x_test, y_test)"
   ]
  },
  {
   "cell_type": "markdown",
   "id": "a8b4b4bd",
   "metadata": {},
   "source": [
    "### Question 10\n",
    "\n",
    "Perform a second order polynomial transform on both the training data and testing data. Create and fit a Ridge regression object using the training data, set the regularisation parameter to 0.1, and calculate the R^2 utilising the test data provided. Take a screenshot of your code and the R^2.\n"
   ]
  },
  {
   "cell_type": "code",
   "execution_count": 14,
   "id": "136b2d07",
   "metadata": {},
   "outputs": [
    {
     "data": {
      "text/plain": [
       "0.699834950546546"
      ]
     },
     "execution_count": 14,
     "metadata": {},
     "output_type": "execute_result"
    }
   ],
   "source": [
    "pr = PolynomialFeatures(degree = 2)\n",
    "x_train_pr = pr.fit_transform(x_train)\n",
    "x_test_pr = pr.fit_transform(x_test)\n",
    "\n",
    "RidgeModel = Ridge(alpha = 1)\n",
    "RidgeModel.fit(x_train_pr, y_train)\n",
    "RidgeModel.score(x_test_pr, y_test)"
   ]
  },
  {
   "cell_type": "code",
   "execution_count": null,
   "id": "9f64bd8c",
   "metadata": {},
   "outputs": [],
   "source": []
  }
 ],
 "metadata": {
  "kernelspec": {
   "display_name": "Python 3 (ipykernel)",
   "language": "python",
   "name": "python3"
  },
  "language_info": {
   "codemirror_mode": {
    "name": "ipython",
    "version": 3
   },
   "file_extension": ".py",
   "mimetype": "text/x-python",
   "name": "python",
   "nbconvert_exporter": "python",
   "pygments_lexer": "ipython3",
   "version": "3.9.7"
  }
 },
 "nbformat": 4,
 "nbformat_minor": 5
}
